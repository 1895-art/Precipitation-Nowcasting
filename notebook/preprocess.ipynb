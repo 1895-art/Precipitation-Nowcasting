{
 "cells": [
  {
   "cell_type": "code",
   "execution_count": 1,
   "metadata": {},
   "outputs": [],
   "source": [
    "import os\n",
    "import numpy as np\n",
    "import cv2\n",
    "from PIL import Image\n",
    "import random\n",
    "from matplotlib import pyplot as plt\n",
    "import os.path as osp"
   ]
  },
  {
   "cell_type": "code",
   "execution_count": 7,
   "metadata": {},
   "outputs": [],
   "source": [
    "base_dir = '/Users/hzzone/Downloads/radar_raw_data/SRAD2018_TRAIN_'\n",
    "thresh = 80000\n",
    "s = []\n",
    "for i in range(1, 11):\n",
    "    sample_dir = base_dir + str(i).zfill(3)\n",
    "    for data_id in os.listdir(sample_dir):\n",
    "        p = os.path.join(sample_dir, data_id)\n",
    "        img1 = cv2.cvtColor(cv2.imread(osp.join(p, data_id + '_001.png')), cv2.COLOR_BGR2GRAY)\n",
    "        img1[img1==255] = 0\n",
    "        img2 = cv2.cvtColor(cv2.imread(osp.join(p, data_id + '_030.png')), cv2.COLOR_BGR2GRAY)\n",
    "        img2[img2==255] = 0\n",
    "        if np.sum(img1!=0)>thresh and np.sum(img2!=0)>thresh:\n",
    "            s.append(p)\n",
    "            \n",
    "random.seed(0)\n",
    "random.shuffle(s)\n",
    "random.shuffle(s)"
   ]
  },
  {
   "cell_type": "code",
   "execution_count": 8,
   "metadata": {},
   "outputs": [
    {
     "data": {
      "text/plain": [
       "1819"
      ]
     },
     "execution_count": 8,
     "metadata": {},
     "output_type": "execute_result"
    }
   ],
   "source": [
    "len(s)"
   ]
  },
  {
   "cell_type": "code",
   "execution_count": 9,
   "metadata": {},
   "outputs": [],
   "source": [
    "dataset_size = 1000\n",
    "data = {'train': s[:int(dataset_size*0.8)], 'test': s[int(dataset_size*0.8):dataset_size]}"
   ]
  },
  {
   "cell_type": "code",
   "execution_count": 63,
   "metadata": {},
   "outputs": [],
   "source": [
    "def process(s, save_path, size=61):\n",
    "    if not osp.exists(save_path):\n",
    "        os.mkdir(save_path)\n",
    "    for data_path in s:\n",
    "        data_id = data_path.split('/')[-1]\n",
    "        imgs = []\n",
    "        for i in range(size):\n",
    "            img_file_name = osp.join(data_path, '{}_{}.png'.format(data_id, str(i).zfill(3)))\n",
    "            try:\n",
    "                im = cv2.cvtColor(cv2.imread(img_file_name), cv2.COLOR_BGR2GRAY)\n",
    "            except Exception as e:\n",
    "                im = np.array(Image.open(img_file_name))\n",
    "                print(img_file_name, e)\n",
    "            im[im==255] = 0\n",
    "            imgs.append(im.astype(np.float32)/80.0)\n",
    "        seq = np.array(imgs)\n",
    "        np.save(osp.join(save_path, data_id), seq)"
   ]
  },
  {
   "cell_type": "code",
   "execution_count": 64,
   "metadata": {},
   "outputs": [
    {
     "name": "stdout",
     "output_type": "stream",
     "text": [
      "/Users/hzzone/Downloads/radar_raw_data/SRAD2018_TRAIN_004/RAD_296582494212544/RAD_296582494212544_004.png OpenCV(4.0.1) /tmp/opencv-20190105-82821-l4qhq7/opencv-4.0.1/modules/imgproc/src/color.cpp:181: error: (-215:Assertion failed) !_src.empty() in function 'cvtColor'\n",
      "\n",
      "/Users/hzzone/Downloads/radar_raw_data/SRAD2018_TRAIN_004/RAD_296582494212543/RAD_296582494212543_014.png OpenCV(4.0.1) /tmp/opencv-20190105-82821-l4qhq7/opencv-4.0.1/modules/imgproc/src/color.cpp:181: error: (-215:Assertion failed) !_src.empty() in function 'cvtColor'\n",
      "\n"
     ]
    }
   ],
   "source": [
    "regression_save_path = '/Users/hzzone/Downloads/radar_data_regression'\n",
    "for phase in ['train', 'test']:\n",
    "    process(data[phase], osp.join(regression_save_path, phase))"
   ]
  },
  {
   "cell_type": "code",
   "execution_count": 2,
   "metadata": {},
   "outputs": [],
   "source": [
    "# interverls = [0-10, 10-20, 20-30, 30-40, 40-45, 45-50, 50-55, 55-60, 60-80]\n",
    "interverls = np.array([0, 1, 10, 20, 30, 40, 45, 50, 55, 60, 81])"
   ]
  },
  {
   "cell_type": "code",
   "execution_count": 3,
   "metadata": {},
   "outputs": [
    {
     "data": {
      "text/plain": [
       "array([ 0,  1, 10, 20, 30, 40, 45, 50, 55, 60, 80])"
      ]
     },
     "execution_count": 3,
     "metadata": {},
     "output_type": "execute_result"
    }
   ],
   "source": [
    "interverls"
   ]
  },
  {
   "cell_type": "code",
   "execution_count": 15,
   "metadata": {},
   "outputs": [],
   "source": [
    "org_data_path = '/Users/hzzone/Downloads/radar_data'\n",
    "save_path = '/Users/hzzone/Downloads/radar_data_processed'\n",
    "for phase in ['train', 'test']:\n",
    "    org_phase_data_path = osp.join(org_data_path, phase)\n",
    "    for npy_name in os.listdir(org_phase_data_path):\n",
    "        im = np.load(osp.join(org_phase_data_path, npy_name))\n",
    "        data_save_path = osp.join(save_path, 'data', phase)\n",
    "        if not osp.exists(data_save_path):\n",
    "            os.mkdir(data_save_path)\n",
    "        np.save(osp.join(data_save_path, npy_name), im[:31, :, :])\n",
    "        regression_label_save_path = osp.join(save_path, 'regression_label', phase)\n",
    "        if not osp.exists(regression_label_save_path):\n",
    "            os.mkdir(regression_label_save_path)\n",
    "        np.save(osp.join(regression_label_save_path, npy_name), im[31:, :, :])\n",
    "        \n",
    "        classification_label_save_path = osp.join(save_path, 'classification_label', phase)\n",
    "        if not osp.exists(classification_label_save_path):\n",
    "            os.mkdir(classification_label_save_path)\n",
    "        label = (im[31:, :, :]*80).astype(np.int32)\n",
    "        for i in range(len(interverls)-1):\n",
    "            mask = (label >= interverls[i]) & (label < interverls[i+1])\n",
    "            label[mask] = i\n",
    "        np.save(osp.join(classification_label_save_path, npy_name), label)"
   ]
  },
  {
   "cell_type": "code",
   "execution_count": null,
   "metadata": {},
   "outputs": [],
   "source": []
  },
  {
   "cell_type": "code",
   "execution_count": null,
   "metadata": {},
   "outputs": [],
   "source": []
  },
  {
   "cell_type": "code",
   "execution_count": 16,
   "metadata": {},
   "outputs": [
    {
     "data": {
      "text/plain": [
       "<matplotlib.image.AxesImage at 0x131a4a320>"
      ]
     },
     "execution_count": 16,
     "metadata": {},
     "output_type": "execute_result"
    },
    {
     "data": {
      "image/png": "[encoded data removed]",
      "text/plain": [
       "<Figure size 432x288 with 1 Axes>"
      ]
     },
     "metadata": {
      "needs_background": "light"
     },
     "output_type": "display_data"
    }
   ],
   "source": [
    "seq = np.load('/Users/hzzone/Downloads/radar_data_processed/classification_label/train/RAD_206482404212544.npy')\n",
    "plt.imshow(seq[0, :, :])"
   ]
  },
  {
   "cell_type": "code",
   "execution_count": 17,
   "metadata": {},
   "outputs": [
    {
     "data": {
      "text/plain": [
       "dtype('int32')"
      ]
     },
     "execution_count": 17,
     "metadata": {},
     "output_type": "execute_result"
    }
   ],
   "source": [
    "seq.dtype"
   ]
  },
  {
   "cell_type": "code",
   "execution_count": null,
   "metadata": {},
   "outputs": [],
   "source": []
  },
  {
   "cell_type": "code",
   "execution_count": 18,
   "metadata": {},
   "outputs": [
    {
     "data": {
      "text/plain": [
       "<matplotlib.image.AxesImage at 0x13386bd30>"
      ]
     },
     "execution_count": 18,
     "metadata": {},
     "output_type": "execute_result"
    },
    {
     "data": {
      "image/png": "[encoded data removed]",
      "text/plain": [
       "<Figure size 432x288 with 1 Axes>"
      ]
     },
     "metadata": {
      "needs_background": "light"
     },
     "output_type": "display_data"
    }
   ],
   "source": [
    "seq = np.load('/Users/hzzone/Downloads/radar_data_processed/regression_label/train/RAD_206482404212544.npy')\n",
    "plt.imshow(seq[0, :, :])"
   ]
  },
  {
   "cell_type": "code",
   "execution_count": 19,
   "metadata": {},
   "outputs": [
    {
     "data": {
      "text/plain": [
       "dtype('float32')"
      ]
     },
     "execution_count": 19,
     "metadata": {},
     "output_type": "execute_result"
    }
   ],
   "source": [
    "seq.dtype"
   ]
  },
  {
   "cell_type": "code",
   "execution_count": null,
   "metadata": {},
   "outputs": [],
   "source": []
  },
  {
   "cell_type": "markdown",
   "metadata": {},
   "source": [
    "```python\n",
    "import cv2\n",
    "import numpy as np\n",
    "seq = np.load('/Users/hzzone/Downloads/radar_data/npy/train/RAD_206482404212544.npy')\n",
    "for i in range(61):\n",
    "\tcv2.imshow('', seq[i, :, :])\n",
    "\tif cv2.waitKey(120) & 0xFF == ord('q'):\n",
    "\t\tbreak\n",
    "```"
   ]
  },
  {
   "cell_type": "code",
   "execution_count": null,
   "metadata": {},
   "outputs": [],
   "source": []
  },
  {
   "cell_type": "code",
   "execution_count": null,
   "metadata": {},
   "outputs": [],
   "source": []
  },
  {
   "cell_type": "code",
   "execution_count": null,
   "metadata": {},
   "outputs": [],
   "source": []
  },
  {
   "cell_type": "code",
   "execution_count": null,
   "metadata": {},
   "outputs": [],
   "source": []
  }
 ],
 "metadata": {
  "kernelspec": {
   "display_name": "Python 3",
   "language": "python",
   "name": "python3"
  },
  "language_info": {
   "codemirror_mode": {
    "name": "ipython",
    "version": 3
   },
   "file_extension": ".py",
   "mimetype": "text/x-python",
   "name": "python",
   "nbconvert_exporter": "python",
   "pygments_lexer": "ipython3",
   "version": "3.7.2"
  }
 },
 "nbformat": 4,
 "nbformat_minor": 2
}
