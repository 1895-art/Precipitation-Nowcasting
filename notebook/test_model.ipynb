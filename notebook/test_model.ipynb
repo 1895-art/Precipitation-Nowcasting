{
 "cells": [
  {
   "cell_type": "code",
   "execution_count": 1,
   "metadata": {},
   "outputs": [],
   "source": [
    "import sys\n",
    "sys.path.insert(0, '../')\n",
    "%reload_ext autoreload\n",
    "%autoreload 2\n",
    "import logging"
   ]
  },
  {
   "cell_type": "code",
   "execution_count": 2,
   "metadata": {},
   "outputs": [],
   "source": [
    "logging.disable(logging.DEBUG)"
   ]
  },
  {
   "cell_type": "markdown",
   "metadata": {},
   "source": [
    "# 测试 ConvLSTM"
   ]
  },
  {
   "cell_type": "code",
   "execution_count": 3,
   "metadata": {},
   "outputs": [],
   "source": [
    "from nowcasting.models.convLSTM import ConvLSTM, ConvLSTMCell\n",
    "import torch"
   ]
  },
  {
   "cell_type": "code",
   "execution_count": null,
   "metadata": {},
   "outputs": [],
   "source": [
    "batch_size, input_channel, hidden_size, width, heigt = 2, 10, 10, 64, 32\n",
    "c = ConvLSTMCell(input_channel, hidden_size, 3)"
   ]
  },
  {
   "cell_type": "code",
   "execution_count": null,
   "metadata": {},
   "outputs": [],
   "source": [
    "input = torch.randn(batch_size, input_channel, heigt, width)\n",
    "target = torch.randn(batch_size, input_channel, heigt, width)\n",
    "hidden = torch.zeros(batch_size, hidden_size, heigt, width)\n",
    "cell = torch.zeros(batch_size, hidden_size, heigt, width)"
   ]
  },
  {
   "cell_type": "code",
   "execution_count": null,
   "metadata": {},
   "outputs": [],
   "source": [
    "output = c(input, (hidden, cell))[0]"
   ]
  },
  {
   "cell_type": "code",
   "execution_count": null,
   "metadata": {},
   "outputs": [],
   "source": [
    "if torch.cuda.is_available():\n",
    "    output = output.cuda()\n",
    "    target = target.cuda()\n",
    "loss_fn = torch.nn.MSELoss()\n",
    "output = output.double()\n",
    "target = target.double()\n",
    "assert torch.autograd.gradcheck(loss_fn, (output, target), eps=1e-6, raise_exception=True)"
   ]
  },
  {
   "cell_type": "code",
   "execution_count": null,
   "metadata": {},
   "outputs": [],
   "source": [
    "seq_num = 10\n",
    "input = torch.randn(seq_num, batch_size, input_channel, heigt, width)\n",
    "target = torch.randn(seq_num, batch_size, input_channel, heigt, width)\n",
    "\n",
    "state = (hidden, cell)"
   ]
  },
  {
   "cell_type": "code",
   "execution_count": null,
   "metadata": {},
   "outputs": [],
   "source": [
    "conv_lstm = ConvLSTM(input_channel, hidden_size, 3)"
   ]
  },
  {
   "cell_type": "code",
   "execution_count": null,
   "metadata": {},
   "outputs": [],
   "source": [
    "output, stack = conv_lstm(input, state)"
   ]
  },
  {
   "cell_type": "code",
   "execution_count": null,
   "metadata": {},
   "outputs": [],
   "source": [
    "if torch.cuda.is_available():\n",
    "    output = output.cuda()\n",
    "    target = target.cuda()\n",
    "output = output.double()\n",
    "target = target.double()\n",
    "assert torch.autograd.gradcheck(loss_fn, (output, target), eps=1e-6, raise_exception=True)"
   ]
  },
  {
   "cell_type": "code",
   "execution_count": null,
   "metadata": {},
   "outputs": [],
   "source": []
  },
  {
   "cell_type": "markdown",
   "metadata": {},
   "source": [
    "# 测试 Encoder 和 Forecaster"
   ]
  },
  {
   "cell_type": "code",
   "execution_count": 4,
   "metadata": {},
   "outputs": [],
   "source": [
    "from nowcasting.models.forecaster import Forecaster\n",
    "from nowcasting.models.encoder import Encoder\n",
    "from collections import OrderedDict\n",
    "from nowcasting.config import cfg"
   ]
  },
  {
   "cell_type": "markdown",
   "metadata": {},
   "source": [
    "### Encoder"
   ]
  },
  {
   "cell_type": "code",
   "execution_count": 5,
   "metadata": {},
   "outputs": [],
   "source": [
    "encoder_params = [\n",
    "    [\n",
    "        OrderedDict({'conv1_1': [1, 8, 7, 5, 1]}),\n",
    "        OrderedDict({'conv2_1': [64, 192, 5, 3, 1]}),\n",
    "        OrderedDict({'conv3_1': [192, 192, 3, 2, 1]}),\n",
    "    ],\n",
    "    \n",
    "    [\n",
    "        ConvLSTM(8, 64, 3),\n",
    "        ConvLSTM(192, 192, 3),\n",
    "        ConvLSTM(192, 192, 3)\n",
    "    ]\n",
    "]"
   ]
  },
  {
   "cell_type": "code",
   "execution_count": null,
   "metadata": {},
   "outputs": [],
   "source": []
  },
  {
   "cell_type": "code",
   "execution_count": 6,
   "metadata": {},
   "outputs": [],
   "source": [
    "encoder = Encoder(encoder_params[0], encoder_params[1]).to(cfg.GLOBAL.DEVICE)"
   ]
  },
  {
   "cell_type": "code",
   "execution_count": 7,
   "metadata": {},
   "outputs": [
    {
     "data": {
      "text/plain": [
       "Encoder(\n",
       "  (stage1): Sequential(\n",
       "    (conv1_1): Conv2d(1, 8, kernel_size=(7, 7), stride=(5, 5), padding=(1, 1))\n",
       "    (relu_conv1_1): ReLU(inplace)\n",
       "  )\n",
       "  (rnn1): ConvLSTM(\n",
       "    (_cell): ConvLSTMCell(\n",
       "      (_conv): Conv2d(72, 256, kernel_size=(3, 3), stride=(1, 1), padding=(1, 1))\n",
       "    )\n",
       "  )\n",
       "  (stage2): Sequential(\n",
       "    (conv2_1): Conv2d(64, 192, kernel_size=(5, 5), stride=(3, 3), padding=(1, 1))\n",
       "    (relu_conv2_1): ReLU(inplace)\n",
       "  )\n",
       "  (rnn2): ConvLSTM(\n",
       "    (_cell): ConvLSTMCell(\n",
       "      (_conv): Conv2d(384, 768, kernel_size=(3, 3), stride=(1, 1), padding=(1, 1))\n",
       "    )\n",
       "  )\n",
       "  (stage3): Sequential(\n",
       "    (conv3_1): Conv2d(192, 192, kernel_size=(3, 3), stride=(2, 2), padding=(1, 1))\n",
       "    (relu_conv3_1): ReLU(inplace)\n",
       "  )\n",
       "  (rnn3): ConvLSTM(\n",
       "    (_cell): ConvLSTMCell(\n",
       "      (_conv): Conv2d(384, 768, kernel_size=(3, 3), stride=(1, 1), padding=(1, 1))\n",
       "    )\n",
       "  )\n",
       ")"
      ]
     },
     "execution_count": 7,
     "metadata": {},
     "output_type": "execute_result"
    }
   ],
   "source": [
    "encoder"
   ]
  },
  {
   "cell_type": "code",
   "execution_count": 8,
   "metadata": {},
   "outputs": [],
   "source": [
    "data = torch.randn((5, 2, 1, 480, 480)).to(cfg.GLOBAL.DEVICE)"
   ]
  },
  {
   "cell_type": "code",
   "execution_count": 9,
   "metadata": {},
   "outputs": [],
   "source": [
    "state, size = encoder(data)"
   ]
  },
  {
   "cell_type": "code",
   "execution_count": 10,
   "metadata": {},
   "outputs": [
    {
     "data": {
      "text/plain": [
       "torch.Size([2, 64, 96, 96])"
      ]
     },
     "execution_count": 10,
     "metadata": {},
     "output_type": "execute_result"
    }
   ],
   "source": [
    "state[0][0].size()"
   ]
  },
  {
   "cell_type": "code",
   "execution_count": 11,
   "metadata": {},
   "outputs": [
    {
     "data": {
      "text/plain": [
       "torch.Size([5, 2, 192, 16, 16])"
      ]
     },
     "execution_count": 11,
     "metadata": {},
     "output_type": "execute_result"
    }
   ],
   "source": [
    "size"
   ]
  },
  {
   "cell_type": "markdown",
   "metadata": {},
   "source": [
    "### Forecaster"
   ]
  },
  {
   "cell_type": "code",
   "execution_count": 12,
   "metadata": {},
   "outputs": [],
   "source": [
    "forecaster_params = [\n",
    "    [\n",
    "        OrderedDict({'deconv1_1': [192, 192, 4, 2, 1]}),\n",
    "        OrderedDict({'deconv2_1': [192, 64, 5, 3, 1]}),\n",
    "        OrderedDict({\n",
    "            'deconv3_1': [64, 8, 7, 5, 1],\n",
    "            'deconv4_2': [8, 1, 1, 1, 0]\n",
    "        }),\n",
    "    ],\n",
    "    \n",
    "    [\n",
    "        ConvLSTM(192, 192, 3),\n",
    "        ConvLSTM(192, 192, 3),\n",
    "        ConvLSTM(64, 64, 3)\n",
    "    ]\n",
    "]"
   ]
  },
  {
   "cell_type": "code",
   "execution_count": 13,
   "metadata": {},
   "outputs": [],
   "source": [
    "forecaster = Forecaster(forecaster_params[0], forecaster_params[1]).to(cfg.GLOBAL.DEVICE)"
   ]
  },
  {
   "cell_type": "code",
   "execution_count": 14,
   "metadata": {},
   "outputs": [
    {
     "data": {
      "text/plain": [
       "Forecaster(\n",
       "  (rnn3): ConvLSTM(\n",
       "    (_cell): ConvLSTMCell(\n",
       "      (_conv): Conv2d(384, 768, kernel_size=(3, 3), stride=(1, 1), padding=(1, 1))\n",
       "    )\n",
       "  )\n",
       "  (stage3): Sequential(\n",
       "    (deconv1_1): ConvTranspose2d(192, 192, kernel_size=(4, 4), stride=(2, 2), padding=(1, 1))\n",
       "    (relu_deconv1_1): ReLU(inplace)\n",
       "  )\n",
       "  (rnn2): ConvLSTM(\n",
       "    (_cell): ConvLSTMCell(\n",
       "      (_conv): Conv2d(384, 768, kernel_size=(3, 3), stride=(1, 1), padding=(1, 1))\n",
       "    )\n",
       "  )\n",
       "  (stage2): Sequential(\n",
       "    (deconv2_1): ConvTranspose2d(192, 64, kernel_size=(5, 5), stride=(3, 3), padding=(1, 1))\n",
       "    (relu_deconv2_1): ReLU(inplace)\n",
       "  )\n",
       "  (rnn1): ConvLSTM(\n",
       "    (_cell): ConvLSTMCell(\n",
       "      (_conv): Conv2d(128, 256, kernel_size=(3, 3), stride=(1, 1), padding=(1, 1))\n",
       "    )\n",
       "  )\n",
       "  (stage1): Sequential(\n",
       "    (deconv3_1): ConvTranspose2d(64, 8, kernel_size=(7, 7), stride=(5, 5), padding=(1, 1))\n",
       "    (relu_deconv3_1): ReLU(inplace)\n",
       "    (deconv4_2): ConvTranspose2d(8, 1, kernel_size=(1, 1), stride=(1, 1))\n",
       "    (relu_deconv4_2): ReLU(inplace)\n",
       "  )\n",
       ")"
      ]
     },
     "execution_count": 14,
     "metadata": {},
     "output_type": "execute_result"
    }
   ],
   "source": [
    "forecaster"
   ]
  },
  {
   "cell_type": "code",
   "execution_count": 15,
   "metadata": {},
   "outputs": [],
   "source": [
    "output = forecaster(state, size)"
   ]
  },
  {
   "cell_type": "code",
   "execution_count": 16,
   "metadata": {},
   "outputs": [
    {
     "data": {
      "text/plain": [
       "torch.Size([20, 2, 1, 480, 480])"
      ]
     },
     "execution_count": 16,
     "metadata": {},
     "output_type": "execute_result"
    }
   ],
   "source": [
    "output.size()"
   ]
  },
  {
   "cell_type": "code",
   "execution_count": null,
   "metadata": {},
   "outputs": [],
   "source": []
  },
  {
   "cell_type": "code",
   "execution_count": null,
   "metadata": {},
   "outputs": [],
   "source": []
  }
 ],
 "metadata": {
  "kernelspec": {
   "display_name": "Python 3",
   "language": "python",
   "name": "python3"
  },
  "language_info": {
   "codemirror_mode": {
    "name": "ipython",
    "version": 3
   },
   "file_extension": ".py",
   "mimetype": "text/x-python",
   "name": "python",
   "nbconvert_exporter": "python",
   "pygments_lexer": "ipython3",
   "version": "3.7.2"
  }
 },
 "nbformat": 4,
 "nbformat_minor": 2
}
