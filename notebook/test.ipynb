{
 "cells": [
  {
   "cell_type": "code",
   "execution_count": 1,
   "metadata": {},
   "outputs": [],
   "source": [
    "import sys\n",
    "sys.path.insert(0, '../')\n",
    "%reload_ext autoreload\n",
    "%autoreload 2\n",
    "import logging"
   ]
  },
  {
   "cell_type": "code",
   "execution_count": 82,
   "metadata": {},
   "outputs": [],
   "source": [
    "import torch\n",
    "from nowcasting.hko.dataloader import HKOIterator\n",
    "from nowcasting.config import cfg\n",
    "from nowcasting.utils import *\n",
    "import numpy as np\n",
    "from nowcasting.helpers.visualization import save_hko_gif, save_hko_movie\n",
    "import os\n",
    "import os.path as osp\n",
    "import cv2\n",
    "import numpy as np\n",
    "from tqdm import tqdm_notebook\n",
    "from nowcasting.models.convLSTM import ConvLSTM\n",
    "from nowcasting.models.encoder import Encoder\n",
    "from nowcasting.models.forecaster import Forecaster\n",
    "from nowcasting.models.model import EF\n",
    "from nowcasting.hko.evaluation import HKOEvaluation"
   ]
  },
  {
   "cell_type": "markdown",
   "metadata": {},
   "source": [
    "## 阈值与像素值对应"
   ]
  },
  {
   "cell_type": "code",
   "execution_count": 31,
   "metadata": {},
   "outputs": [
    {
     "data": {
      "text/plain": [
       "array([ 0.5,  2. ,  5. , 10. , 30. ])"
      ]
     },
     "execution_count": 31,
     "metadata": {},
     "output_type": "execute_result"
    }
   ],
   "source": [
    "cfg.HKO.EVALUATION.THRESHOLDS"
   ]
  },
  {
   "cell_type": "code",
   "execution_count": 32,
   "metadata": {},
   "outputs": [
    {
     "data": {
      "text/plain": [
       "array([0.3282531 , 0.46242647, 0.55111025, 0.61819693, 0.72452681])"
      ]
     },
     "execution_count": 32,
     "metadata": {},
     "output_type": "execute_result"
    }
   ],
   "source": [
    "rainfall_to_pixel(cfg.HKO.EVALUATION.THRESHOLDS)"
   ]
  },
  {
   "cell_type": "code",
   "execution_count": 33,
   "metadata": {},
   "outputs": [
    {
     "data": {
      "text/plain": [
       "array([ 83.70454162, 117.91875085, 140.53311305, 157.64021766,\n",
       "       184.75433697])"
      ]
     },
     "execution_count": 33,
     "metadata": {},
     "output_type": "execute_result"
    }
   ],
   "source": [
    "rainfall_to_pixel(cfg.HKO.EVALUATION.THRESHOLDS)*255"
   ]
  },
  {
   "cell_type": "markdown",
   "metadata": {},
   "source": [
    "像素值是 255 的对应不到 rainfall."
   ]
  },
  {
   "cell_type": "code",
   "execution_count": 64,
   "metadata": {},
   "outputs": [
    {
     "data": {
      "text/plain": [
       "inf"
      ]
     },
     "execution_count": 64,
     "metadata": {},
     "output_type": "execute_result"
    }
   ],
   "source": [
    "pixel_to_rainfall(255)"
   ]
  },
  {
   "cell_type": "code",
   "execution_count": 63,
   "metadata": {},
   "outputs": [
    {
     "data": {
      "text/plain": [
       "-inf"
      ]
     },
     "execution_count": 63,
     "metadata": {},
     "output_type": "execute_result"
    }
   ],
   "source": [
    "rainfall_to_pixel(0)"
   ]
  },
  {
   "cell_type": "code",
   "execution_count": 65,
   "metadata": {},
   "outputs": [
    {
     "data": {
      "text/plain": [
       "0.01682826752826454"
      ]
     },
     "execution_count": 65,
     "metadata": {},
     "output_type": "execute_result"
    }
   ],
   "source": [
    "pixel_to_rainfall(0)"
   ]
  },
  {
   "cell_type": "code",
   "execution_count": 68,
   "metadata": {},
   "outputs": [
    {
     "data": {
      "text/plain": [
       "0.96231525816964009335"
      ]
     },
     "execution_count": 68,
     "metadata": {},
     "output_type": "execute_result"
    }
   ],
   "source": [
    "np.sum((counts/np.sum(counts))[:83])"
   ]
  },
  {
   "cell_type": "markdown",
   "metadata": {},
   "source": [
    "## 统计像素值"
   ]
  },
  {
   "cell_type": "code",
   "execution_count": 52,
   "metadata": {},
   "outputs": [],
   "source": [
    "counts = np.zeros(256, dtype=np.float128)\n",
    "file_list = []\n",
    "for root, dirs, files in os.walk(cfg.HKO_PNG_PATH):\n",
    "    for file_name in files:\n",
    "        p = osp.join(root, file_name)\n",
    "        file_list.append(p)"
   ]
  },
  {
   "cell_type": "code",
   "execution_count": 56,
   "metadata": {},
   "outputs": [
    {
     "data": {
      "application/vnd.jupyter.widget-view+json": {
       "model_id": "553d2d788fb54a4d8bb614b6650fd1ba",
       "version_major": 2,
       "version_minor": 0
      },
      "text/plain": [
       "HBox(children=(IntProgress(value=0, max=607958), HTML(value='')))"
      ]
     },
     "metadata": {},
     "output_type": "display_data"
    },
    {
     "name": "stdout",
     "output_type": "stream",
     "text": [
      "\n"
     ]
    }
   ],
   "source": [
    "for p in tqdm_notebook(file_list):\n",
    "    im = cv2.cvtColor(cv2.imread(p), cv2.COLOR_BGR2GRAY)\n",
    "    label, count = np.unique(im, return_counts=True)\n",
    "    counts[label] += count"
   ]
  },
  {
   "cell_type": "code",
   "execution_count": 58,
   "metadata": {},
   "outputs": [
    {
     "data": {
      "text/plain": [
       "array([9.36386464e-01, 0.00000000e+00, 5.59860839e-05, 0.00000000e+00,\n",
       "       6.75041933e-05, 8.97365411e-05, 0.00000000e+00, 1.01720315e-04,\n",
       "       0.00000000e+00, 1.13979783e-04, 0.00000000e+00, 1.30917343e-04,\n",
       "       0.00000000e+00, 1.62465662e-04, 0.00000000e+00, 1.81989294e-04,\n",
       "       1.90858420e-04, 0.00000000e+00, 2.02702843e-04, 0.00000000e+00,\n",
       "       2.15276597e-04, 0.00000000e+00, 2.21572461e-04, 0.00000000e+00,\n",
       "       2.40491959e-04, 0.00000000e+00, 2.62481183e-04, 2.73846527e-04,\n",
       "       0.00000000e+00, 2.77543871e-04, 0.00000000e+00, 2.86072046e-04,\n",
       "       0.00000000e+00, 2.98116932e-04, 0.00000000e+00, 3.12413019e-04,\n",
       "       3.26999993e-04, 0.00000000e+00, 3.46416843e-04, 0.00000000e+00,\n",
       "       3.56746985e-04, 0.00000000e+00, 3.80316851e-04, 0.00000000e+00,\n",
       "       4.18590815e-04, 0.00000000e+00, 4.35467861e-04, 4.43758224e-04,\n",
       "       0.00000000e+00, 4.75989171e-04, 0.00000000e+00, 4.91327837e-04,\n",
       "       0.00000000e+00, 5.11612352e-04, 0.00000000e+00, 5.38648786e-04,\n",
       "       5.72692924e-04, 0.00000000e+00, 6.44076645e-04, 0.00000000e+00,\n",
       "       7.36400418e-04, 0.00000000e+00, 8.51170088e-04, 0.00000000e+00,\n",
       "       9.60565800e-04, 0.00000000e+00, 1.07439530e-03, 1.18267186e-03,\n",
       "       0.00000000e+00, 1.29123942e-03, 0.00000000e+00, 1.38657565e-03,\n",
       "       0.00000000e+00, 1.44103831e-03, 0.00000000e+00, 1.47447994e-03,\n",
       "       0.00000000e+00, 1.49810459e-03, 1.50605669e-03, 0.00000000e+00,\n",
       "       1.47441432e-03, 0.00000000e+00, 1.42336124e-03, 0.00000000e+00,\n",
       "       1.36451836e-03, 0.00000000e+00, 1.30143691e-03, 1.23985928e-03,\n",
       "       0.00000000e+00, 1.18055347e-03, 0.00000000e+00, 1.12407674e-03,\n",
       "       0.00000000e+00, 1.07123290e-03, 0.00000000e+00, 1.02420729e-03,\n",
       "       0.00000000e+00, 9.82285703e-04, 9.46541835e-04, 0.00000000e+00,\n",
       "       9.15058484e-04, 0.00000000e+00, 8.88200762e-04, 0.00000000e+00,\n",
       "       8.64502740e-04, 0.00000000e+00, 8.43329252e-04, 8.24387106e-04,\n",
       "       0.00000000e+00, 8.07613094e-04, 0.00000000e+00, 7.92726237e-04,\n",
       "       0.00000000e+00, 7.79356358e-04, 0.00000000e+00, 7.65871595e-04,\n",
       "       0.00000000e+00, 7.55127996e-04, 7.43516448e-04, 0.00000000e+00,\n",
       "       7.33606934e-04, 0.00000000e+00, 7.23121623e-04, 0.00000000e+00,\n",
       "       7.13479787e-04, 0.00000000e+00, 7.03785025e-04, 0.00000000e+00,\n",
       "       6.93977044e-04, 6.84227622e-04, 0.00000000e+00, 6.73737851e-04,\n",
       "       0.00000000e+00, 6.63054909e-04, 0.00000000e+00, 6.51647756e-04,\n",
       "       0.00000000e+00, 6.39714745e-04, 6.26778638e-04, 0.00000000e+00,\n",
       "       6.13253639e-04, 0.00000000e+00, 5.98362969e-04, 0.00000000e+00,\n",
       "       5.82638691e-04, 0.00000000e+00, 5.66326574e-04, 0.00000000e+00,\n",
       "       5.48154614e-04, 5.29660281e-04, 0.00000000e+00, 5.10489728e-04,\n",
       "       0.00000000e+00, 4.89700969e-04, 0.00000000e+00, 4.68524586e-04,\n",
       "       0.00000000e+00, 4.46487530e-04, 4.23931884e-04, 0.00000000e+00,\n",
       "       4.00623479e-04, 0.00000000e+00, 3.76996690e-04, 0.00000000e+00,\n",
       "       3.53238929e-04, 0.00000000e+00, 3.29053869e-04, 0.00000000e+00,\n",
       "       3.05236354e-04, 2.81851168e-04, 0.00000000e+00, 2.59410327e-04,\n",
       "       0.00000000e+00, 2.37989667e-04, 0.00000000e+00, 2.18211843e-04,\n",
       "       0.00000000e+00, 2.00379299e-04, 0.00000000e+00, 1.84299374e-04,\n",
       "       1.69601962e-04, 0.00000000e+00, 1.56943966e-04, 0.00000000e+00,\n",
       "       1.45712902e-04, 0.00000000e+00, 1.35633951e-04, 0.00000000e+00,\n",
       "       1.26541132e-04, 1.18227070e-04, 0.00000000e+00, 1.10951262e-04,\n",
       "       0.00000000e+00, 1.03943628e-04, 0.00000000e+00, 9.74246196e-05,\n",
       "       0.00000000e+00, 9.12907250e-05, 0.00000000e+00, 8.54162356e-05,\n",
       "       7.96106180e-05, 0.00000000e+00, 7.39331773e-05, 0.00000000e+00,\n",
       "       6.83823702e-05, 0.00000000e+00, 6.29287715e-05, 0.00000000e+00,\n",
       "       5.74707702e-05, 5.21639267e-05, 0.00000000e+00, 4.68835850e-05,\n",
       "       0.00000000e+00, 4.17146912e-05, 0.00000000e+00, 3.66592584e-05,\n",
       "       0.00000000e+00, 3.18931822e-05, 0.00000000e+00, 2.73329957e-05,\n",
       "       2.30917188e-05, 0.00000000e+00, 1.92311320e-05, 0.00000000e+00,\n",
       "       1.57838040e-05, 0.00000000e+00, 1.28024040e-05, 0.00000000e+00,\n",
       "       1.02385376e-05, 0.00000000e+00, 8.09981526e-06, 6.33533893e-06,\n",
       "       0.00000000e+00, 4.93989503e-06, 0.00000000e+00, 3.83813221e-06,\n",
       "       0.00000000e+00, 2.96853321e-06, 0.00000000e+00, 2.29798156e-06,\n",
       "       1.80797727e-06, 0.00000000e+00, 1.42681778e-06, 0.00000000e+00,\n",
       "       1.13443120e-06, 0.00000000e+00, 9.22225454e-07, 0.00000000e+00,\n",
       "       7.61458356e-07, 0.00000000e+00, 6.33501886e-07, 5.37025979e-07,\n",
       "       0.00000000e+00, 4.66774392e-07, 0.00000000e+00, 4.06558746e-07],\n",
       "      dtype=float128)"
      ]
     },
     "execution_count": 58,
     "metadata": {},
     "output_type": "execute_result"
    }
   ],
   "source": [
    "counts/np.sum(counts)"
   ]
  },
  {
   "cell_type": "code",
   "execution_count": 70,
   "metadata": {},
   "outputs": [],
   "source": [
    "np.save('pixel_counts', counts)"
   ]
  },
  {
   "cell_type": "markdown",
   "metadata": {},
   "source": [
    "## 验证数据加载"
   ]
  },
  {
   "cell_type": "code",
   "execution_count": 3,
   "metadata": {},
   "outputs": [],
   "source": [
    "valid_hko_iter = HKOIterator(pd_path=cfg.HKO_PD.RAINY_VALID,\n",
    "                                 sample_mode=\"sequent\",\n",
    "                                 seq_len=25,\n",
    "                                 stride=5)"
   ]
  },
  {
   "cell_type": "code",
   "execution_count": 7,
   "metadata": {},
   "outputs": [],
   "source": [
    "valid_hko_iter.reset()\n",
    "valid_time = 0\n",
    "while not valid_hko_iter.use_up:\n",
    "    valid_batch, valid_mask, sample_datetimes, new_start =\\\n",
    "        valid_hko_iter.sample(batch_size=1)\n",
    "    if valid_batch.shape[1] == 0:\n",
    "        break\n",
    "    valid_time += 1"
   ]
  },
  {
   "cell_type": "code",
   "execution_count": 8,
   "metadata": {},
   "outputs": [
    {
     "data": {
      "text/plain": [
       "True"
      ]
     },
     "execution_count": 8,
     "metadata": {},
     "output_type": "execute_result"
    }
   ],
   "source": [
    "valid_hko_iter.use_up"
   ]
  },
  {
   "cell_type": "code",
   "execution_count": 10,
   "metadata": {},
   "outputs": [],
   "source": [
    "valid_hko_iter.reset()\n",
    "valid_batch, valid_mask, sample_datetimes, new_start =\\\n",
    "    valid_hko_iter.sample(batch_size=1)"
   ]
  },
  {
   "cell_type": "code",
   "execution_count": 11,
   "metadata": {},
   "outputs": [
    {
     "data": {
      "text/plain": [
       "(25, 1, 1, 480, 480)"
      ]
     },
     "execution_count": 11,
     "metadata": {},
     "output_type": "execute_result"
    }
   ],
   "source": [
    "valid_batch.shape"
   ]
  },
  {
   "cell_type": "code",
   "execution_count": 18,
   "metadata": {},
   "outputs": [
    {
     "data": {
      "text/plain": [
       "<matplotlib.image.AxesImage at 0x17bb2fe80>"
      ]
     },
     "execution_count": 18,
     "metadata": {},
     "output_type": "execute_result"
    },
    {
     "data": {
      "image/png": "[encoded data removed]",
      "text/plain": [
       "<Figure size 432x288 with 1 Axes>"
      ]
     },
     "metadata": {
      "needs_background": "light"
     },
     "output_type": "display_data"
    }
   ],
   "source": [
    "import matplotlib.pyplot as plt\n",
    "plt.imshow(valid_batch[0, 0, 0, ...]/255.0)"
   ]
  },
  {
   "cell_type": "markdown",
   "metadata": {},
   "source": [
    "## 存储视频"
   ]
  },
  {
   "cell_type": "code",
   "execution_count": 21,
   "metadata": {},
   "outputs": [
    {
     "name": "stderr",
     "output_type": "stream",
     "text": [
      "                                                   "
     ]
    },
    {
     "name": "stdout",
     "output_type": "stream",
     "text": [
      "Moviepy - Building video 1.mp4.\n",
      "Moviepy - Writing video 1.mp4\n",
      "\n",
      "Moviepy - Done !\n",
      "Moviepy - video ready 1.mp4\n"
     ]
    },
    {
     "name": "stderr",
     "output_type": "stream",
     "text": []
    }
   ],
   "source": [
    "save_hko_movie(valid_batch[:, 0, 0, :, :],\n",
    "                       sample_datetimes[0],\n",
    "                       valid_mask[:, 0, 0, :, :],\n",
    "                       masked=True,\n",
    "                       save_path='1' + '.mp4')"
   ]
  },
  {
   "cell_type": "markdown",
   "metadata": {},
   "source": [
    "### 计算性能"
   ]
  },
  {
   "cell_type": "code",
   "execution_count": 76,
   "metadata": {},
   "outputs": [],
   "source": [
    "encoder_params = [\n",
    "    [\n",
    "        OrderedDict({'conv1_leaky_1': [1, 8, 7, 5, 1]}),\n",
    "        OrderedDict({'conv2_leaky_1': [64, 192, 5, 3, 1]}),\n",
    "        OrderedDict({'conv3_leaky_1': [192, 192, 3, 2, 1]}),\n",
    "    ],\n",
    "\n",
    "    [\n",
    "        ConvLSTM(8, 64, 3),\n",
    "        ConvLSTM(192, 192, 3),\n",
    "        ConvLSTM(192, 192, 3)\n",
    "    ]\n",
    "]\n",
    "\n",
    "\n",
    "encoder = Encoder(encoder_params[0], encoder_params[1]).to(cfg.GLOBAL.DEVICE)\n",
    "\n",
    "forecaster_params = [\n",
    "    [\n",
    "        OrderedDict({'deconv1_leaky_1': [192, 192, 4, 2, 1]}),\n",
    "        OrderedDict({'deconv2_leaky_1': [192, 64, 5, 3, 1]}),\n",
    "        OrderedDict({\n",
    "            'deconv3_leaky_1': [64, 8, 7, 5, 1],\n",
    "            'conv3_leaky_2': [8, 8, 3, 1, 1],\n",
    "            'conv3_3': [8, 1, 1, 1, 0] # 忘了删除激活函数了，妈的\n",
    "            # 忘了卷积层，分类\n",
    "        }),\n",
    "    ],\n",
    "\n",
    "    [\n",
    "        ConvLSTM(192, 192, 3),\n",
    "        ConvLSTM(192, 192, 3),\n",
    "        ConvLSTM(64, 64, 3)\n",
    "    ]\n",
    "]\n",
    "\n",
    "forecaster = Forecaster(forecaster_params[0], forecaster_params[1]).to(cfg.GLOBAL.DEVICE)\n",
    "\n",
    "encoder_forecaster = EF(encoder, forecaster).to(cfg.GLOBAL.DEVICE)"
   ]
  },
  {
   "cell_type": "code",
   "execution_count": 79,
   "metadata": {},
   "outputs": [],
   "source": [
    "valid_hko_iter = HKOIterator(pd_path=cfg.HKO_PD.RAINY_VALID,\n",
    "                                 sample_mode=\"sequent\",\n",
    "                                 seq_len=25,\n",
    "                                 stride=5)\n",
    "\n",
    "valid_batch, valid_mask, sample_datetimes, new_start =\\\n",
    "        valid_hko_iter.sample(batch_size=2)\n",
    "\n",
    "valid_batch = torch.from_numpy(valid_batch.astype(np.float32)).to(cfg.GLOBAL.DEVICE) / 255.0\n",
    "valid_data = valid_batch[:cfg.HKO.BENCHMARK.IN_LEN, ...]\n",
    "valid_label = valid_batch[cfg.HKO.BENCHMARK.IN_LEN:cfg.HKO.BENCHMARK.IN_LEN + cfg.HKO.BENCHMARK.OUT_LEN, ...]\n",
    "mask = torch.from_numpy(valid_mask[cfg.HKO.BENCHMARK.IN_LEN:cfg.HKO.BENCHMARK.IN_LEN + cfg.HKO.BENCHMARK.OUT_LEN, ...].astype(int)).to(cfg.GLOBAL.DEVICE)\n",
    "output = encoder_forecaster(valid_data)"
   ]
  },
  {
   "cell_type": "code",
   "execution_count": 80,
   "metadata": {},
   "outputs": [
    {
     "data": {
      "text/plain": [
       "torch.Size([20, 2, 1, 480, 480])"
      ]
     },
     "execution_count": 80,
     "metadata": {},
     "output_type": "execute_result"
    }
   ],
   "source": [
    "output.size()"
   ]
  },
  {
   "cell_type": "code",
   "execution_count": 84,
   "metadata": {},
   "outputs": [],
   "source": [
    "evaluater = HKOEvaluation(seq_len=cfg.HKO.BENCHMARK.OUT_LEN, use_central=False)"
   ]
  },
  {
   "cell_type": "code",
   "execution_count": 85,
   "metadata": {},
   "outputs": [],
   "source": [
    "valid_label_numpy = valid_label.cpu().numpy()\n",
    "output_numpy = np.clip(output.detach().cpu().numpy(), 0.0, 1.0)\n",
    "evaluater.update(valid_label_numpy, output_numpy, mask.cpu().numpy())"
   ]
  },
  {
   "cell_type": "code",
   "execution_count": 87,
   "metadata": {},
   "outputs": [],
   "source": [
    "_, _, valid_csi, valid_hss, _, valid_mse, valid_mae, valid_balanced_mse, valid_balanced_mae, _ = evaluater.calculate_stat()"
   ]
  },
  {
   "cell_type": "code",
   "execution_count": 100,
   "metadata": {},
   "outputs": [
    {
     "data": {
      "text/plain": [
       "((20, 5), (20, 5))"
      ]
     },
     "execution_count": 100,
     "metadata": {},
     "output_type": "execute_result"
    }
   ],
   "source": [
    "valid_csi.shape, valid_hss.shape "
   ]
  },
  {
   "cell_type": "code",
   "execution_count": 101,
   "metadata": {},
   "outputs": [
    {
     "data": {
      "text/plain": [
       "((20,), (20,), (20,), (20,))"
      ]
     },
     "execution_count": 101,
     "metadata": {},
     "output_type": "execute_result"
    }
   ],
   "source": [
    "valid_mse.shape, valid_mae.shape, valid_balanced_mse.shape, valid_balanced_mae.shape"
   ]
  },
  {
   "cell_type": "code",
   "execution_count": 102,
   "metadata": {},
   "outputs": [
    {
     "data": {
      "text/plain": [
       "array([[ 0.,  0.,  0.,  0., nan],\n",
       "       [ 0.,  0.,  0.,  0.,  0.],\n",
       "       [ 0.,  0.,  0.,  0.,  0.],\n",
       "       [ 0.,  0.,  0.,  0., nan],\n",
       "       [ 0.,  0.,  0.,  0.,  0.],\n",
       "       [ 0.,  0.,  0.,  0., nan],\n",
       "       [ 0.,  0.,  0.,  0., nan],\n",
       "       [ 0.,  0.,  0.,  0., nan],\n",
       "       [ 0.,  0.,  0.,  0.,  0.],\n",
       "       [ 0.,  0.,  0.,  0.,  0.],\n",
       "       [ 0.,  0.,  0.,  0., nan],\n",
       "       [ 0.,  0.,  0.,  0.,  0.],\n",
       "       [ 0.,  0.,  0.,  0.,  0.],\n",
       "       [ 0.,  0.,  0.,  0.,  0.],\n",
       "       [ 0.,  0.,  0.,  0.,  0.],\n",
       "       [ 0.,  0.,  0.,  0., nan],\n",
       "       [ 0.,  0.,  0.,  0.,  0.],\n",
       "       [ 0.,  0.,  0.,  0.,  0.],\n",
       "       [ 0.,  0.,  0.,  0.,  0.],\n",
       "       [ 0.,  0.,  0.,  0., nan]])"
      ]
     },
     "execution_count": 102,
     "metadata": {},
     "output_type": "execute_result"
    }
   ],
   "source": [
    "valid_csi"
   ]
  },
  {
   "cell_type": "code",
   "execution_count": 103,
   "metadata": {},
   "outputs": [
    {
     "data": {
      "text/plain": [
       "array([[0., 0., 0., 0., 0.],\n",
       "       [0., 0., 0., 0., 0.],\n",
       "       [0., 0., 0., 0., 0.],\n",
       "       [0., 0., 0., 0., 0.],\n",
       "       [0., 0., 0., 0., 0.],\n",
       "       [0., 0., 0., 0., 0.],\n",
       "       [0., 0., 0., 0., 0.],\n",
       "       [0., 0., 0., 0., 0.],\n",
       "       [0., 0., 0., 0., 0.],\n",
       "       [0., 0., 0., 0., 0.],\n",
       "       [0., 0., 0., 0., 0.],\n",
       "       [0., 0., 0., 0., 0.],\n",
       "       [0., 0., 0., 0., 0.],\n",
       "       [0., 0., 0., 0., 0.],\n",
       "       [0., 0., 0., 0., 0.],\n",
       "       [0., 0., 0., 0., 0.],\n",
       "       [0., 0., 0., 0., 0.],\n",
       "       [0., 0., 0., 0., 0.],\n",
       "       [0., 0., 0., 0., 0.],\n",
       "       [0., 0., 0., 0., 0.]])"
      ]
     },
     "execution_count": 103,
     "metadata": {},
     "output_type": "execute_result"
    }
   ],
   "source": [
    "np.nan_to_num(valid_csi)"
   ]
  },
  {
   "cell_type": "code",
   "execution_count": null,
   "metadata": {},
   "outputs": [],
   "source": []
  }
 ],
 "metadata": {
  "kernelspec": {
   "display_name": "Python 3",
   "language": "python",
   "name": "python3"
  },
  "language_info": {
   "codemirror_mode": {
    "name": "ipython",
    "version": 3
   },
   "file_extension": ".py",
   "mimetype": "text/x-python",
   "name": "python",
   "nbconvert_exporter": "python",
   "pygments_lexer": "ipython3",
   "version": "3.7.2"
  }
 },
 "nbformat": 4,
 "nbformat_minor": 2
}
