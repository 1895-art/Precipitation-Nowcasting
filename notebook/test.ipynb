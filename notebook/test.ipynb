{
 "cells": [
  {
   "cell_type": "code",
   "execution_count": 1,
   "metadata": {},
   "outputs": [],
   "source": [
    "import sys\n",
    "sys.path.insert(0, '../')\n",
    "%reload_ext autoreload\n",
    "%autoreload 2\n",
    "import logging"
   ]
  },
  {
   "cell_type": "code",
   "execution_count": 2,
   "metadata": {},
   "outputs": [],
   "source": [
    "import torch\n",
    "from nowcasting.hko.dataloader import HKOIterator\n",
    "from nowcasting.config import cfg"
   ]
  },
  {
   "cell_type": "code",
   "execution_count": 3,
   "metadata": {},
   "outputs": [],
   "source": [
    "valid_hko_iter = HKOIterator(pd_path=cfg.HKO_PD.RAINY_VALID,\n",
    "                                 sample_mode=\"sequent\",\n",
    "                                 seq_len=25,\n",
    "                                 stride=5)"
   ]
  },
  {
   "cell_type": "code",
   "execution_count": 7,
   "metadata": {},
   "outputs": [],
   "source": [
    "valid_hko_iter.reset()\n",
    "valid_time = 0\n",
    "while not valid_hko_iter.use_up:\n",
    "    valid_batch, valid_mask, sample_datetimes, new_start =\\\n",
    "        valid_hko_iter.sample(batch_size=1)\n",
    "    if valid_batch.shape[1] == 0:\n",
    "        break\n",
    "    valid_time += 1"
   ]
  },
  {
   "cell_type": "code",
   "execution_count": 8,
   "metadata": {},
   "outputs": [
    {
     "data": {
      "text/plain": [
       "True"
      ]
     },
     "execution_count": 8,
     "metadata": {},
     "output_type": "execute_result"
    }
   ],
   "source": [
    "valid_hko_iter.use_up"
   ]
  },
  {
   "cell_type": "code",
   "execution_count": 10,
   "metadata": {},
   "outputs": [],
   "source": [
    "valid_hko_iter.reset()\n",
    "valid_batch, valid_mask, sample_datetimes, new_start =\\\n",
    "    valid_hko_iter.sample(batch_size=1)"
   ]
  },
  {
   "cell_type": "code",
   "execution_count": 11,
   "metadata": {},
   "outputs": [
    {
     "data": {
      "text/plain": [
       "(25, 1, 1, 480, 480)"
      ]
     },
     "execution_count": 11,
     "metadata": {},
     "output_type": "execute_result"
    }
   ],
   "source": [
    "valid_batch.shape"
   ]
  },
  {
   "cell_type": "code",
   "execution_count": 18,
   "metadata": {},
   "outputs": [
    {
     "data": {
      "text/plain": [
       "<matplotlib.image.AxesImage at 0x17bb2fe80>"
      ]
     },
     "execution_count": 18,
     "metadata": {},
     "output_type": "execute_result"
    },
    {
     "data": {
      "image/png": "[encoded data removed]",
      "text/plain": [
       "<Figure size 432x288 with 1 Axes>"
      ]
     },
     "metadata": {
      "needs_background": "light"
     },
     "output_type": "display_data"
    }
   ],
   "source": [
    "import matplotlib.pyplot as plt\n",
    "plt.imshow(valid_batch[0, 0, 0, ...]/255.0)"
   ]
  },
  {
   "cell_type": "code",
   "execution_count": 17,
   "metadata": {},
   "outputs": [
    {
     "data": {
      "text/plain": [
       "array([  0,   2,   4,   5,   7,   9,  11,  13,  15,  16,  18,  20,  22,\n",
       "        24,  26,  27,  29,  31,  33,  35,  36,  38,  40,  42,  44,  46,\n",
       "        47,  49,  51,  53,  55,  56,  58,  60,  62,  64,  66,  67,  69,\n",
       "        71,  73,  75,  77,  78,  80,  82,  84,  86,  87,  89,  91,  93,\n",
       "        95,  97,  98, 100, 102, 104, 106, 107, 109, 111, 113, 115, 117,\n",
       "       118, 120, 122, 124, 126, 128, 129, 131, 133, 135, 137, 138, 140,\n",
       "       146], dtype=uint8)"
      ]
     },
     "execution_count": 17,
     "metadata": {},
     "output_type": "execute_result"
    }
   ],
   "source": [
    "import numpy as np\n",
    "np.unique(valid_batch[0, 0, 0, ...])"
   ]
  },
  {
   "cell_type": "code",
   "execution_count": 19,
   "metadata": {},
   "outputs": [],
   "source": [
    "from nowcasting.helpers.visualization import save_hko_gif, save_hko_movie"
   ]
  },
  {
   "cell_type": "code",
   "execution_count": 21,
   "metadata": {},
   "outputs": [
    {
     "name": "stderr",
     "output_type": "stream",
     "text": [
      "                                                   "
     ]
    },
    {
     "name": "stdout",
     "output_type": "stream",
     "text": [
      "Moviepy - Building video 1.mp4.\n",
      "Moviepy - Writing video 1.mp4\n",
      "\n",
      "Moviepy - Done !\n",
      "Moviepy - video ready 1.mp4\n"
     ]
    },
    {
     "name": "stderr",
     "output_type": "stream",
     "text": []
    }
   ],
   "source": [
    "save_hko_movie(valid_batch[:, 0, 0, :, :],\n",
    "                       sample_datetimes[0],\n",
    "                       valid_mask[:, 0, 0, :, :],\n",
    "                       masked=True,\n",
    "                       save_path='1' + '.mp4')"
   ]
  },
  {
   "cell_type": "code",
   "execution_count": null,
   "metadata": {},
   "outputs": [],
   "source": []
  }
 ],
 "metadata": {
  "kernelspec": {
   "display_name": "Python 3",
   "language": "python",
   "name": "python3"
  },
  "language_info": {
   "codemirror_mode": {
    "name": "ipython",
    "version": 3
   },
   "file_extension": ".py",
   "mimetype": "text/x-python",
   "name": "python",
   "nbconvert_exporter": "python",
   "pygments_lexer": "ipython3",
   "version": "3.7.2"
  }
 },
 "nbformat": 4,
 "nbformat_minor": 2
}
